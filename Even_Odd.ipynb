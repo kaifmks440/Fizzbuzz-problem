{
  "nbformat": 4,
  "nbformat_minor": 0,
  "metadata": {
    "colab": {
      "name": "Even Odd.ipynb",
      "provenance": [],
      "collapsed_sections": [],
      "authorship_tag": "ABX9TyMx2T74AkypgLjZw8/76ehS",
      "include_colab_link": true
    },
    "kernelspec": {
      "name": "python3",
      "display_name": "Python 3"
    }
  },
  "cells": [
    {
      "cell_type": "markdown",
      "metadata": {
        "id": "view-in-github",
        "colab_type": "text"
      },
      "source": [
        "<a href=\"https://colab.research.google.com/github/kaifmks440/Fizzbuzz-problem/blob/master/Even_Odd.ipynb\" target=\"_parent\"><img src=\"https://colab.research.google.com/assets/colab-badge.svg\" alt=\"Open In Colab\"/></a>"
      ]
    },
    {
      "cell_type": "markdown",
      "metadata": {
        "id": "dZIcSF99E97e",
        "colab_type": "text"
      },
      "source": [
        "# **TCS Code Vita -2020**\n",
        "# **Even Odd problem**\n",
        "\n",
        "\n",
        "*   Given a range [low,high] (both inclusive ),select K numbers from the range (a number can be choosen multiple times) such that **sum** of those k numbers is even .\n",
        "*   calulate the number of all such permutations.\n",
        "*   As this number can be large,print it modulo (1e9+7)\n",
        "## Constaints\n",
        "0 <= low <= high <= 10^99\n",
        "k<= 10^6\n",
        "## Input \n",
        "* First line contains two space separated interges denoting low and high respectively\n",
        "* Second line contains a single integer K\n",
        "## Output\n",
        "*Print a single integer denoting the number of all such permutaions\n",
        "# Time Limit \n",
        "1\n",
        "# Example-1\n",
        "### Input\n",
        "-1 10\n",
        "-2\n",
        "### Output\n",
        "-50\n",
        "\n",
        "\n",
        "\n",
        "\n",
        "\n",
        "\n"
      ]
    },
    {
      "cell_type": "code",
      "metadata": {
        "id": "FL9RRxaOrwvH",
        "colab_type": "code",
        "colab": {
          "base_uri": "https://localhost:8080/",
          "height": 67
        },
        "outputId": "754f3df6-b0e5-455a-8748-1b1bd641d8b8"
      },
      "source": [
        "# defining fuction for creating list from given range ;\n",
        "def myarray(low, high): \n",
        "    return list(range(low, high+1))\n",
        "\n",
        "# taking range value low and high\n",
        "\n",
        "low,high=input().split()                       #split value by  space separated\n",
        "low=int(low)\n",
        "high=int(high)\n",
        "# Now checking given range value is valid or not according to the given condition 0<=low <= high <=10**9;\n",
        "while (low < 0 or low>=10**9) or (high < 0 or high >10**9) :\n",
        "  raise TypeError(\"0 <= low <= high <= 10**9  must be with in range \") \n",
        "\n",
        "# creating list from given range and calculating length of the of the list ; \n",
        "mylist=myarray (low, high)\n",
        "size_of_list=len(mylist)\n",
        "\n",
        "# choosing k element from given range while repitition are allowed;\n",
        "k=int(input())\n",
        "while k>10**6:\n",
        "  raise TypeError(\"k must be in range k <= 10**6\")\n",
        "result=pow(size_of_list,k)/2\n",
        "result"
      ],
      "execution_count": 24,
      "outputs": [
        {
          "output_type": "stream",
          "text": [
            "1 10\n",
            "2\n"
          ],
          "name": "stdout"
        },
        {
          "output_type": "execute_result",
          "data": {
            "text/plain": [
              "50.0"
            ]
          },
          "metadata": {
            "tags": []
          },
          "execution_count": 24
        }
      ]
    },
    {
      "cell_type": "code",
      "metadata": {
        "id": "KT4457jUyWPD",
        "colab_type": "code",
        "colab": {}
      },
      "source": [
        ""
      ],
      "execution_count": 13,
      "outputs": []
    },
    {
      "cell_type": "code",
      "metadata": {
        "id": "lOsPS1dMyz9t",
        "colab_type": "code",
        "colab": {}
      },
      "source": [
        ""
      ],
      "execution_count": 20,
      "outputs": []
    },
    {
      "cell_type": "code",
      "metadata": {
        "id": "iVzKk3-7zJ9d",
        "colab_type": "code",
        "colab": {}
      },
      "source": [
        ""
      ],
      "execution_count": null,
      "outputs": []
    }
  ]
}